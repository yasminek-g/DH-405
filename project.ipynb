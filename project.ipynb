{
 "cells": [
  {
   "cell_type": "code",
   "execution_count": 1,
   "id": "6ea730a3-6a1e-4c5a-84e1-0e76f7a1f535",
   "metadata": {},
   "outputs": [],
   "source": [
    "import os\n",
    "import pandas as pd\n",
    "import numpy as np\n",
    "import glob\n",
    "\n",
    "# Define the path to the directory where the .xyz files are located\n",
    "data_dir = \"/sample_facades_2024_10_08/complete_facades/data/\"\n",
    "\n",
    "# Fetch all the .xyz files in the directory\n",
    "file_paths = glob.glob(os.path.join(data_dir, \"*.xyz\"))\n",
    "\n",
    "# Function to preprocess a single .xyz file\n",
    "def preprocess_xyz(file_path, subsample=True, num_points=1024):\n",
    "    # Load the .xyz file\n",
    "    columns = ['X', 'Y', 'Z', 'R', 'G', 'B']\n",
    "    data = pd.read_csv(file_path, header=None, names=columns)\n",
    "\n",
    "    # Extract point cloud data (XYZ)\n",
    "    point_cloud = data[['X', 'Y', 'Z']]\n",
    "\n",
    "    '''\n",
    "    # Optionally subsample the points\n",
    "    if subsample and len(point_cloud) > num_points:\n",
    "        point_cloud = point_cloud.sample(n=num_points, random_state=42)\n",
    "    '''\n",
    "\n",
    "    # Reshape the points to [sqrt(num_points), sqrt(num_points), 3]\n",
    "    sqrt_points = int(np.sqrt(len(point_cloud)))\n",
    "    reshaped_points = point_cloud.values[:sqrt_points**2].reshape(sqrt_points, sqrt_points, 3)\n",
    "\n",
    "    return reshaped_points\n",
    "    \n",
    "\n",
    "# Process all .xyz files in the directory\n",
    "for file_path in file_paths:\n",
    "    # print(f\"Processing {file_path}...\")\n",
    "    reshaped_points = preprocess_xyz(file_path)\n",
    "\n",
    "    # Example: Save to a new file (optional)\n",
    "    output_path = os.path.splitext(file_path)[0] + \"_processed.npy\"\n",
    "    np.save(output_path, reshaped_points)\n",
    "    #print(f\"Saved processed data to {output_path}\")\n"
   ]
  },
  {
   "cell_type": "code",
   "execution_count": 7,
   "id": "d4cd0e1b-4c35-4a91-8606-f38840f73db0",
   "metadata": {},
   "outputs": [
    {
     "ename": "NameError",
     "evalue": "name 'npy_file_path' is not defined",
     "output_type": "error",
     "traceback": [
      "\u001b[0;31m---------------------------------------------------------------------------\u001b[0m",
      "\u001b[0;31mNameError\u001b[0m                                 Traceback (most recent call last)",
      "Cell \u001b[0;32mIn[7], line 2\u001b[0m\n\u001b[1;32m      1\u001b[0m \u001b[38;5;66;03m# Load the .npy file\u001b[39;00m\n\u001b[0;32m----> 2\u001b[0m npy_data \u001b[38;5;241m=\u001b[39m np\u001b[38;5;241m.\u001b[39mload(\u001b[43mnpy_file_path\u001b[49m)\n\u001b[1;32m      4\u001b[0m \u001b[38;5;66;03m# Reshape the numpy array to make it 2D if necessary and create a pandas DataFrame\u001b[39;00m\n\u001b[1;32m      5\u001b[0m point_cloud_df \u001b[38;5;241m=\u001b[39m pd\u001b[38;5;241m.\u001b[39mDataFrame(npy_data\u001b[38;5;241m.\u001b[39mreshape(\u001b[38;5;241m-\u001b[39m\u001b[38;5;241m1\u001b[39m, \u001b[38;5;241m3\u001b[39m), columns\u001b[38;5;241m=\u001b[39m[\u001b[38;5;124m'\u001b[39m\u001b[38;5;124mX\u001b[39m\u001b[38;5;124m'\u001b[39m, \u001b[38;5;124m'\u001b[39m\u001b[38;5;124mY\u001b[39m\u001b[38;5;124m'\u001b[39m, \u001b[38;5;124m'\u001b[39m\u001b[38;5;124mZ\u001b[39m\u001b[38;5;124m'\u001b[39m])\n",
      "\u001b[0;31mNameError\u001b[0m: name 'npy_file_path' is not defined"
     ]
    }
   ],
   "source": [
    "# Load the .npy file\n",
    "npy_data = np.load(npy_file_path)\n",
    "\n",
    "# Reshape the numpy array to make it 2D if necessary and create a pandas DataFrame\n",
    "point_cloud_df = pd.DataFrame(npy_data.reshape(-1, 3), columns=['X', 'Y', 'Z'])\n",
    "\n",
    "# Display the DataFrame (or use it as needed in your analysis)\n",
    "point_cloud_df.head()"
   ]
  },
  {
   "cell_type": "code",
   "execution_count": null,
   "id": "dc7a7fcc-43df-48b6-8216-691eeb5f7ce1",
   "metadata": {},
   "outputs": [],
   "source": []
  }
 ],
 "metadata": {
  "kernelspec": {
   "display_name": "Python 3 (ipykernel)",
   "language": "python",
   "name": "python3"
  },
  "language_info": {
   "codemirror_mode": {
    "name": "ipython",
    "version": 3
   },
   "file_extension": ".py",
   "mimetype": "text/x-python",
   "name": "python",
   "nbconvert_exporter": "python",
   "pygments_lexer": "ipython3",
   "version": "3.12.4"
  }
 },
 "nbformat": 4,
 "nbformat_minor": 5
}
